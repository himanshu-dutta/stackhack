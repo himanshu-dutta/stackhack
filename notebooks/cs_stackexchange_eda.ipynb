{
 "cells": [
  {
   "cell_type": "markdown",
   "metadata": {},
   "source": [
    "# EDA on CS StackExchange Data\n",
    "\n",
    "Questions API Link: https://api.stackexchange.com/docs/questions\n",
    "\n",
    "Question Type Link: https://api.stackexchange.com/docs/types/question"
   ]
  },
  {
   "cell_type": "code",
   "execution_count": 1,
   "metadata": {},
   "outputs": [],
   "source": [
    "import json"
   ]
  },
  {
   "cell_type": "code",
   "execution_count": 2,
   "metadata": {},
   "outputs": [],
   "source": [
    "with open(\"../data/dump_2023_12_08_14_05_31.json\", \"r\") as fp:\n",
    "    data = json.load(fp)"
   ]
  },
  {
   "cell_type": "code",
   "execution_count": 3,
   "metadata": {},
   "outputs": [
    {
     "name": "stdout",
     "output_type": "stream",
     "text": [
      "Number of questions:  47781\n",
      "Average number of answers per question:  1.1587869655302316\n",
      "Average number of tags per question:  2.5743287080638746\n",
      "Number of answered questions:  36014\n",
      "Number of questions with accepted answer:  21582\n"
     ]
    }
   ],
   "source": [
    "print(\"Number of questions: \", len(data))\n",
    "print(\"Average number of answers per question: \", sum([itm['answer_count'] for itm in data])/len(data))\n",
    "print(\"Average number of tags per question: \", sum([len(itm['tags']) for itm in data])/len(data))\n",
    "print(\"Number of answered questions: \", sum([itm['is_answered'] for itm in data]))\n",
    "print(\"Number of questions with accepted answer: \", sum([1 if itm.get('accepted_answer_id', False) else 0 for itm in data]))"
   ]
  },
  {
   "cell_type": "code",
   "execution_count": 4,
   "metadata": {},
   "outputs": [
    {
     "name": "stdout",
     "output_type": "stream",
     "text": [
      "Attributes for question:  dict_keys(['tags', 'answers', 'is_answered', 'view_count', 'down_vote_count', 'up_vote_count', 'accepted_answer_id', 'answer_count', 'score', 'last_activity_date', 'creation_date', 'last_edit_date', 'question_id', 'link', 'title', 'body'])\n",
      "Attributes for answers:  dict_keys(['down_vote_count', 'up_vote_count', 'is_accepted', 'score', 'last_activity_date', 'last_edit_date', 'creation_date', 'answer_id', 'question_id', 'link', 'body'])\n"
     ]
    }
   ],
   "source": [
    "print(\"Attributes for question: \", data[0].keys())\n",
    "print(\"Attributes for answers: \", data[0]['answers'][0].keys())"
   ]
  }
 ],
 "metadata": {
  "kernelspec": {
   "display_name": "StackHack-z-d_Hyn2",
   "language": "python",
   "name": "python3"
  },
  "language_info": {
   "codemirror_mode": {
    "name": "ipython",
    "version": 3
   },
   "file_extension": ".py",
   "mimetype": "text/x-python",
   "name": "python",
   "nbconvert_exporter": "python",
   "pygments_lexer": "ipython3",
   "version": "3.10.4"
  }
 },
 "nbformat": 4,
 "nbformat_minor": 2
}
